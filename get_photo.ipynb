{
 "cells": [
  {
   "cell_type": "code",
   "execution_count": 5,
   "metadata": {},
   "outputs": [
    {
     "name": "stdout",
     "output_type": "stream",
     "text": [
      "コピーしました: 848abb8e-d5a0-45e0-9992-5554b7101c4d_2.jpg\n",
      "コピーしました: 848abb8e-d5a0-45e0-9992-5554b7101c4d_3.jpg\n",
      "コピーしました: 848abb8e-d5a0-45e0-9992-5554b7101c4d_1.jpg\n",
      "コピーしました: 02723e85-1401-4fb3-b45a-5b9a153703ed_1.jpg\n",
      "コピーしました: 02723e85-1401-4fb3-b45a-5b9a153703ed_2.jpg\n",
      "コピーしました: 4e6a48b7-792e-4fe2-8856-62b5baf71741_6.jpg\n",
      "コピーしました: 4e6a48b7-792e-4fe2-8856-62b5baf71741_7.jpg\n",
      "コピーしました: 4e6a48b7-792e-4fe2-8856-62b5baf71741_5.jpg\n",
      "コピーしました: 4e6a48b7-792e-4fe2-8856-62b5baf71741_4.jpg\n",
      "コピーしました: 4e6a48b7-792e-4fe2-8856-62b5baf71741_1.jpg\n",
      "コピーしました: 4e6a48b7-792e-4fe2-8856-62b5baf71741_3.jpg\n",
      "コピーしました: 4e6a48b7-792e-4fe2-8856-62b5baf71741_2.jpg\n",
      "コピーしました: 45f38380-d46d-4a95-8dec-610484f28f72_2.jpg\n",
      "コピーしました: 45f38380-d46d-4a95-8dec-610484f28f72_3.jpg\n",
      "コピーしました: 45f38380-d46d-4a95-8dec-610484f28f72_1.jpg\n",
      "コピーしました: a8b1dcc4-d0e1-4a23-9a20-51ccba415671_1.jpg\n",
      "コピーしました: a8b1dcc4-d0e1-4a23-9a20-51ccba415671_2.jpg\n",
      "コピーしました: a8b1dcc4-d0e1-4a23-9a20-51ccba415671_3.jpg\n",
      "コピーしました: a4924631-7558-41b3-a325-79e9305ae305_3.jpg\n",
      "コピーしました: a4924631-7558-41b3-a325-79e9305ae305_2.jpg\n",
      "コピーしました: a4924631-7558-41b3-a325-79e9305ae305_1.jpg\n",
      "コピーしました: a4924631-7558-41b3-a325-79e9305ae305_5.jpg\n",
      "コピーしました: a4924631-7558-41b3-a325-79e9305ae305_4.jpg\n",
      "コピーしました: f785773f-5ae3-4810-8e4e-3c6697528d55_2.jpg\n",
      "コピーしました: f785773f-5ae3-4810-8e4e-3c6697528d55_3.jpg\n",
      "コピーしました: f785773f-5ae3-4810-8e4e-3c6697528d55_1.jpg\n",
      "コピーしました: 4503e78d-2abd-4129-ad17-c210ef70b028_3.jpg\n",
      "コピーしました: 4503e78d-2abd-4129-ad17-c210ef70b028_2.jpg\n",
      "コピーしました: 4503e78d-2abd-4129-ad17-c210ef70b028_1.jpg\n",
      "コピーしました: 4c439ddf-63d3-4a3c-99d0-73bedc8dbca0_4.jpg\n",
      "コピーしました: 4c439ddf-63d3-4a3c-99d0-73bedc8dbca0_3.jpg\n",
      "コピーしました: 4c439ddf-63d3-4a3c-99d0-73bedc8dbca0_2.jpg\n",
      "コピーしました: 4c439ddf-63d3-4a3c-99d0-73bedc8dbca0_1.jpg\n",
      "コピーしました: 8b69b6a9-6af3-48a5-93d8-8dfb4e4cc714_1.jpg\n"
     ]
    }
   ],
   "source": [
    "import os\n",
    "import shutil\n",
    "import json \n",
    "import glob \n",
    "\n",
    "def copy_matching_images(source_dir, destination_dir, image_names):\n",
    "    \"\"\"\n",
    "    指定されたディレクトリから、名前が一致する画像をコピーします。\n",
    "\n",
    "    :param source_dir: 画像が保存されているディレクトリのパス\n",
    "    :param destination_dir: 画像をコピーする先のディレクトリのパス\n",
    "    :param image_names: コピーしたい画像の名前のリスト\n",
    "    \"\"\"\n",
    "    if not os.path.exists(destination_dir):\n",
    "        os.makedirs(destination_dir)\n",
    "\n",
    "    for image_name in image_names:\n",
    "        source_path = os.path.join(source_dir, image_name)\n",
    "        if os.path.exists(source_path):\n",
    "            shutil.copy(source_path, destination_dir)\n",
    "            print(f\"コピーしました: {image_name}\")\n",
    "        else:\n",
    "            print(f\"見つかりませんでした: {image_name}\")\n",
    "\n",
    "# 使用例\n",
    "source_directory = \"/Users/jiangwenchu/Desktop/自動推計/sample_data_5000/image_5000tops_2\"\n",
    "destination_directory = \"/Users/jiangwenchu/Desktop/自動推計/webapp_checking/test_photosages\"\n",
    "with open(\"sample.json\", \"r\") as f:\n",
    "    data = json.load(f)\n",
    "\n",
    "# sample.jsonのanon_item_idを取得\n",
    "anon_item_ids = []\n",
    "for item in data:\n",
    "    pattern = os.path.join(source_directory, f'{item[\"anon_item_id\"]}_*.jpg')\n",
    "    matched_files = glob.glob(pattern)\n",
    "    anon_item_ids.extend([os.path.basename(file) for file in matched_files])\n",
    "\n",
    "\n",
    "# 画像名リストにanon_item_idを追加\n",
    "images_to_copy = anon_item_ids\n",
    "\n",
    "copy_matching_images(source_directory, destination_directory, images_to_copy)\n"
   ]
  }
 ],
 "metadata": {
  "kernelspec": {
   "display_name": "Python 3",
   "language": "python",
   "name": "python3"
  },
  "language_info": {
   "codemirror_mode": {
    "name": "ipython",
    "version": 3
   },
   "file_extension": ".py",
   "mimetype": "text/x-python",
   "name": "python",
   "nbconvert_exporter": "python",
   "pygments_lexer": "ipython3",
   "version": "3.10.14"
  }
 },
 "nbformat": 4,
 "nbformat_minor": 2
}
